{
 "cells": [
  {
   "cell_type": "code",
   "execution_count": 2,
   "metadata": {},
   "outputs": [],
   "source": [
    "import pandas as pd\n",
    "import numpy as np\n",
    "import csv\n",
    "import re"
   ]
  },
  {
   "cell_type": "code",
   "execution_count": 25,
   "metadata": {},
   "outputs": [
    {
     "name": "stderr",
     "output_type": "stream",
     "text": [
      "b'Skipping line 251: expected 48 fields, saw 49\\nSkipping line 444: expected 48 fields, saw 50\\nSkipping line 847: expected 48 fields, saw 49\\nSkipping line 848: expected 48 fields, saw 49\\nSkipping line 1018: expected 48 fields, saw 49\\nSkipping line 1575: expected 48 fields, saw 51\\nSkipping line 2133: expected 48 fields, saw 49\\nSkipping line 2922: expected 48 fields, saw 51\\nSkipping line 3777: expected 48 fields, saw 51\\nSkipping line 4057: expected 48 fields, saw 49\\nSkipping line 4239: expected 48 fields, saw 49\\nSkipping line 4240: expected 48 fields, saw 49\\nSkipping line 4384: expected 48 fields, saw 49\\nSkipping line 4385: expected 48 fields, saw 49\\nSkipping line 5388: expected 48 fields, saw 49\\nSkipping line 5480: expected 48 fields, saw 49\\nSkipping line 5481: expected 48 fields, saw 49\\nSkipping line 5907: expected 48 fields, saw 50\\nSkipping line 5908: expected 48 fields, saw 50\\nSkipping line 6600: expected 48 fields, saw 49\\nSkipping line 6601: expected 48 fields, saw 49\\nSkipping line 6602: expected 48 fields, saw 49\\nSkipping line 6603: expected 48 fields, saw 49\\nSkipping line 7227: expected 48 fields, saw 49\\nSkipping line 7228: expected 48 fields, saw 49\\nSkipping line 7229: expected 48 fields, saw 49\\nSkipping line 7267: expected 48 fields, saw 51\\nSkipping line 9025: expected 48 fields, saw 49\\nSkipping line 9026: expected 48 fields, saw 49\\nSkipping line 9027: expected 48 fields, saw 49\\nSkipping line 9417: expected 48 fields, saw 50\\nSkipping line 10815: expected 48 fields, saw 49\\nSkipping line 11034: expected 48 fields, saw 50\\nSkipping line 11059: expected 48 fields, saw 49\\nSkipping line 11060: expected 48 fields, saw 49\\nSkipping line 11339: expected 48 fields, saw 50\\nSkipping line 11357: expected 48 fields, saw 49\\nSkipping line 11358: expected 48 fields, saw 49\\nSkipping line 11646: expected 48 fields, saw 49\\nSkipping line 11647: expected 48 fields, saw 49\\nSkipping line 12161: expected 48 fields, saw 50\\nSkipping line 12307: expected 48 fields, saw 49\\nSkipping line 12308: expected 48 fields, saw 49\\nSkipping line 12614: expected 48 fields, saw 49\\nSkipping line 12615: expected 48 fields, saw 49\\nSkipping line 12616: expected 48 fields, saw 49\\nSkipping line 12617: expected 48 fields, saw 49\\nSkipping line 12618: expected 48 fields, saw 49\\nSkipping line 12619: expected 48 fields, saw 49\\nSkipping line 12620: expected 48 fields, saw 49\\nSkipping line 12621: expected 48 fields, saw 49\\nSkipping line 12622: expected 48 fields, saw 49\\nSkipping line 12623: expected 48 fields, saw 49\\nSkipping line 12799: expected 48 fields, saw 49\\nSkipping line 14200: expected 48 fields, saw 49\\nSkipping line 14595: expected 48 fields, saw 49\\n'\n",
      "b'Skipping line 16747: expected 48 fields, saw 49\\nSkipping line 16748: expected 48 fields, saw 49\\nSkipping line 16749: expected 48 fields, saw 49\\nSkipping line 16750: expected 48 fields, saw 49\\nSkipping line 16751: expected 48 fields, saw 49\\nSkipping line 16752: expected 48 fields, saw 49\\nSkipping line 16753: expected 48 fields, saw 49\\nSkipping line 17318: expected 48 fields, saw 49\\nSkipping line 17319: expected 48 fields, saw 49\\nSkipping line 17766: expected 48 fields, saw 49\\nSkipping line 17767: expected 48 fields, saw 49\\nSkipping line 18000: expected 48 fields, saw 52\\nSkipping line 18001: expected 48 fields, saw 52\\nSkipping line 18308: expected 48 fields, saw 51\\nSkipping line 19223: expected 48 fields, saw 52\\nSkipping line 19224: expected 48 fields, saw 52\\n'\n"
     ]
    },
    {
     "name": "stdout",
     "output_type": "stream",
     "text": [
      "19315\n",
      "10000\n"
     ]
    }
   ],
   "source": [
    "mens_file = 'Resources/Datafiniti_Mens_Shoe_Prices.csv'\n",
    "raw_mens_df = pd.read_csv(mens_file, error_bad_lines = False)\n",
    "\n",
    "\n",
    "womens_file = 'Resources/Datafiniti_Womens_Shoes.csv'\n",
    "raw_womens_df = pd.read_csv(womens_file, error_bad_lines = False)\n",
    "\n",
    "\n",
    "print('mens ' + str(len(raw_mens_df)))\n",
    "print('womens ' + str(len(raw_womens_df)))"
   ]
  },
  {
   "cell_type": "code",
   "execution_count": 26,
   "metadata": {},
   "outputs": [],
   "source": [
    "ShoeList = ['Sandals', 'Sandal', 'Shoe', 'Shoes', 'Boots', 'Boot', 'Sneakers', 'Sneaker', 'Loafers', 'Slippers', 'Runners', 'Trainers', 'Thongs', 'bootie', 'wedge', 'heel']\n"
   ]
  },
  {
   "cell_type": "code",
   "execution_count": 27,
   "metadata": {},
   "outputs": [],
   "source": [
    "filtered_mens_df = raw_mens_df[raw_mens_df.name.str.contains('|'.join(ShoeList), case=False)]\n",
    "filtered_womens_df = raw_womens_df[raw_womens_df.name.str.contains('|'.join(ShoeList), case=False)]"
   ]
  },
  {
   "cell_type": "code",
   "execution_count": 28,
   "metadata": {},
   "outputs": [
    {
     "name": "stdout",
     "output_type": "stream",
     "text": [
      "9437\n",
      "8596\n"
     ]
    }
   ],
   "source": [
    "print(len(filtered_mens_df))\n",
    "print(len(filtered_womens_df))"
   ]
  },
  {
   "cell_type": "code",
   "execution_count": 31,
   "metadata": {},
   "outputs": [
    {
     "data": {
      "text/plain": [
       "0     Josmo 8190 Plain Infant Walking Shoes, Navy - ...\n",
       "1     Josmo 8190 Plain Infant Walking Shoes, Navy - ...\n",
       "2            Servus By Honeywell Shoe Studs Zsr101blmlg\n",
       "3            Servus By Honeywell Shoe Studs Zsr101blmlg\n",
       "4            Servus By Honeywell Shoe Studs Zsr101blmlg\n",
       "5            Servus By Honeywell Shoe Studs Zsr101blmlg\n",
       "6            Servus By Honeywell Shoe Studs Zsr101blmlg\n",
       "7            Servus By Honeywell Shoe Studs Zsr101blmlg\n",
       "8            Servus By Honeywell Shoe Studs Zsr101blmlg\n",
       "9            Servus By Honeywell Shoe Studs Zsr101blmlg\n",
       "13    Maui and Sons David Men  Open Toe Synthetic  F...\n",
       "14    Maui and Sons David Men  Open Toe Synthetic  F...\n",
       "15    Maui and Sons David Men  Open Toe Synthetic  F...\n",
       "16    Maui and Sons David Men  Open Toe Synthetic  F...\n",
       "17    Maui and Sons David Men  Open Toe Synthetic  F...\n",
       "19    Twisted X Western Boots Mens Buckaroo Spur Rid...\n",
       "20        Lacoste Mens Mokara 416 Sneakers In Dark Grey\n",
       "21        Lacoste Mens Mokara 416 Sneakers In Dark Grey\n",
       "26    Puma X Rise Blaze of Glory   Round Toe Leather...\n",
       "27    Puma X Rise Blaze of Glory   Round Toe Leather...\n",
       "28     Filament Metric Men  Round Toe Suede  Skate Shoe\n",
       "29     Filament Metric Men  Round Toe Suede  Skate Shoe\n",
       "30     Filament Metric Men  Round Toe Suede  Skate Shoe\n",
       "31     Filament Metric Men  Round Toe Suede  Skate Shoe\n",
       "33    Toms Mens Classic Burlap Slip On Casual Loafer...\n",
       "34    Toms Mens Classic Burlap Slip On Casual Loafer...\n",
       "39    New Mens Adidas Ts Bounce Commander Black Bask...\n",
       "41    Sofiamore? Men's Shoes Casual Canvas Slippers ...\n",
       "46    Roper Western Boot Boy Leather Tpr Bottom Tan ...\n",
       "47    Puma Roma Basic Men  Round Toe Canvas White Ru...\n",
       "48    Puma Roma Basic Men  Round Toe Canvas White Ru...\n",
       "49    Puma Roma Basic Men  Round Toe Canvas White Ru...\n",
       "50    Puma Roma Basic Men  Round Toe Canvas White Ru...\n",
       "58                    Woolrich  Men Beebe Lace Up Boots\n",
       "60    Nike Shox Turbo Vi Sl 555341-160 White/gym Red...\n",
       "61    Softscience Men's Dragonfly Lace Up Fashion Sn...\n",
       "62                    Nike Men's Free 5.0 Running Shoes\n",
       "63    B32846 Adidas Ace 15.3 Fg/ag Mens Soccer Cleat...\n",
       "64    Dr. Martens Men Resistor Steel Toe Boots 12 Uk...\n",
       "65    Dr. Martens Men Resistor Steel Toe Boots 12 Uk...\n",
       "66    Dr. Martens Men Resistor Steel Toe Boots 12 Uk...\n",
       "67    Lanvin Matt Crack Calfskin Low Top Sneaker Men...\n",
       "68    Lanvin Matt Crack Calfskin Low Top Sneaker Men...\n",
       "69    Realtree Mens Camouflage Loafer Moccasin Slippers\n",
       "70    Realtree Mens Camouflage Loafer Moccasin Slippers\n",
       "72    Thorogood Boots: Men's Steel Toe 804-4364 Amer...\n",
       "73                       Dc  Men Tonik Lace Up Sneakers\n",
       "74    Kenneth Cole Men's Gone 4 Good Navy Ankle-high...\n",
       "75    Kenneth Cole Men's Gone 4 Good Navy Ankle-high...\n",
       "76    Kenneth Cole Men's Gone 4 Good Navy Ankle-high...\n",
       "Name: name, dtype: object"
      ]
     },
     "execution_count": 31,
     "metadata": {},
     "output_type": "execute_result"
    }
   ],
   "source": [
    "\n",
    "\n",
    "\n",
    "filtered_mens_df['name'].head(50)\n"
   ]
  },
  {
   "cell_type": "code",
   "execution_count": null,
   "metadata": {},
   "outputs": [],
   "source": []
  },
  {
   "cell_type": "code",
   "execution_count": null,
   "metadata": {},
   "outputs": [],
   "source": []
  }
 ],
 "metadata": {
  "kernelspec": {
   "display_name": "Python 3",
   "language": "python",
   "name": "python3"
  },
  "language_info": {
   "codemirror_mode": {
    "name": "ipython",
    "version": 3
   },
   "file_extension": ".py",
   "mimetype": "text/x-python",
   "name": "python",
   "nbconvert_exporter": "python",
   "pygments_lexer": "ipython3",
   "version": "3.8.5"
  }
 },
 "nbformat": 4,
 "nbformat_minor": 4
}
